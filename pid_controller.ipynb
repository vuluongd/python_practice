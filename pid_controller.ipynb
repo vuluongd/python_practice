{
 "cells": [
  {
   "cell_type": "markdown",
   "id": "4ae52927",
   "metadata": {},
   "source": [
    "dùng scipy.signal tạo hàm truyền động cơ dc\n",
    "\\begin{equation}\n",
    "    G(s) = \\frac{K}{\\tau s + 1}\n",
    "\\end{equation}"
   ]
  },
  {
   "cell_type": "code",
   "execution_count": null,
   "id": "9ca5b828",
   "metadata": {},
   "outputs": [],
   "source": [
    "import numpy as np \n",
    "import matplotib.pyplot as plt\n",
    "import scipy.signal as signal\n",
    "\n",
    "#----------------------------------\n",
    "# Parameters\n",
    "#----------------------------------\n",
    "\n",
    "k = 1.0\n",
    "tau = 0.5\n",
    "\n",
    "num = [k]\n",
    "den = [tau, 1]\n",
    "plant = signal.TransferFunction(num, den)\n"
   ]
  },
  {
   "cell_type": "markdown",
   "id": "02945ac7",
   "metadata": {},
   "source": []
  }
 ],
 "metadata": {
  "kernelspec": {
   "display_name": "Python 3",
   "language": "python",
   "name": "python3"
  },
  "language_info": {
   "name": "python",
   "version": "3.8.10"
  }
 },
 "nbformat": 4,
 "nbformat_minor": 5
}
