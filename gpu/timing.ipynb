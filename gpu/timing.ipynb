{
 "cells": [
  {
   "cell_type": "code",
   "execution_count": 37,
   "id": "fb4255da",
   "metadata": {},
   "outputs": [],
   "source": [
    "from time import time\n",
    "import pyopencl as cl\n",
    "import numpy as np"
   ]
  },
  {
   "cell_type": "code",
   "execution_count": 38,
   "id": "9f1290f3",
   "metadata": {},
   "outputs": [],
   "source": [
    "a = np.random.rand(1000).astype(np.float32)\n",
    "b = np.random.rand(1000).astype(np.float32)\n",
    "# CPU\n",
    "def cpu_sum(a,b):\n",
    "    c_cpu = np.empty_like(a)\n",
    "    cpu_start_time = time()\n",
    "    for i in range(1000):\n",
    "        for j in range(1000):\n",
    "            c_cpu[i] += a[i] + b[j]\n",
    "    cpu_end_time = time()\n",
    "    print(\"CPU time: \", cpu_end_time - cpu_start_time)\n",
    "    return c_cpu\n",
    "# GPU\n",
    "def gpu_sum(a,b):\n",
    "    platform = cl.get_platforms()[0]\n",
    "    device = platform.get_devices()[0]\n",
    "    context = cl.Context([device])\n",
    "    queue = cl.CommandQueue(context, device, properties=cl.command_queue_properties.PROFILING_ENABLE)\n",
    "    a_buffer = cl.Buffer(context, cl.mem_flags.COPY_HOST_PTR, hostbuf = a)\n",
    "    b_buffer = cl.Buffer(context, cl.mem_flags.COPY_HOST_PTR, hostbuf = b)\n",
    "    c_buffer = cl.Buffer(context, cl.mem_flags.WRITE_ONLY, a.nbytes)\n",
    "    kernel = \"\"\"\n",
    "    __kernel void sum(__global const float *a, __global const float *b, __global float *c) {\n",
    "        int i = get_global_id(0);\n",
    "        int j;\n",
    "        for (j = 0; j < 1000; j++) {\n",
    "            c[i] += a[i] + b[i];\n",
    "        }\n",
    "        }\n",
    "\n",
    "        \"\"\"\n",
    "    program = cl.Program(context, kernel).build()\n",
    "    gpu_start_time = time()\n",
    "    event = program.sum(queue, a.shape, None , a_buffer, b_buffer, c_buffer)\n",
    "    event.wait()\n",
    "    elapsed = 1e-9 * (event.profile.end - event.profile.start)\n",
    "    print(\"GPU Kernel Time: {0} s\".format(elapsed)) \n",
    "    c_gpu = np.empty_like(a)\n",
    "    cl.enqueue_copy(queue, c_buffer, c_gpu).wait()\n",
    "    gpu_end_time = time()\n",
    "    print(\"GPU Total Time: \", gpu_end_time - gpu_start_time)\n",
    "    return c_gpu"
   ]
  },
  {
   "cell_type": "code",
   "execution_count": 39,
   "id": "de413412",
   "metadata": {},
   "outputs": [
    {
     "name": "stdout",
     "output_type": "stream",
     "text": [
      "CPU time:  0.2631964683532715\n"
     ]
    }
   ],
   "source": [
    "c_cpu = cpu_sum(a,b)"
   ]
  },
  {
   "cell_type": "code",
   "execution_count": 40,
   "id": "eb03274c",
   "metadata": {},
   "outputs": [
    {
     "name": "stdout",
     "output_type": "stream",
     "text": [
      "GPU Kernel Time: 8.6601e-05 s\n",
      "GPU Total Time:  0.02225518226623535\n"
     ]
    },
    {
     "name": "stderr",
     "output_type": "stream",
     "text": [
      "/home/lunog/.local/lib/python3.10/site-packages/pyopencl/__init__.py:272: CompilerWarning: Non-empty compiler output encountered. Set the environment variable PYOPENCL_COMPILER_OUTPUT=1 to see more.\n",
      "  warn(\"Non-empty compiler output encountered. Set the \"\n"
     ]
    }
   ],
   "source": [
    "c_gpu = gpu_sum(a,b)"
   ]
  }
 ],
 "metadata": {
  "kernelspec": {
   "display_name": "Python 3",
   "language": "python",
   "name": "python3"
  },
  "language_info": {
   "codemirror_mode": {
    "name": "ipython",
    "version": 3
   },
   "file_extension": ".py",
   "mimetype": "text/x-python",
   "name": "python",
   "nbconvert_exporter": "python",
   "pygments_lexer": "ipython3",
   "version": "3.10.12"
  }
 },
 "nbformat": 4,
 "nbformat_minor": 5
}
