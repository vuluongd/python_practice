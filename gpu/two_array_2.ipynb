{
 "cells": [
  {
   "cell_type": "markdown",
   "id": "06b9fe21",
   "metadata": {},
   "source": [
    "## Use OpenCL To Add Two Random Arrays (This Way Shows Details)"
   ]
  },
  {
   "cell_type": "code",
   "execution_count": 27,
   "id": "2f6dfed1",
   "metadata": {},
   "outputs": [],
   "source": [
    "import pyopencl as cl\n",
    "import numpy as np "
   ]
  },
  {
   "cell_type": "code",
   "execution_count": 28,
   "id": "dfd21dc1",
   "metadata": {},
   "outputs": [],
   "source": [
    "platform = cl.get_platforms()[0]\n",
    "device = platform.get_devices()[0]\n",
    "context = cl.Context([device])\n",
    "queue = cl.CommandQueue(context)\n",
    "\n",
    "a = np.random.rand(50000).astype(np.float32)\n",
    "b = np.random.rand(50000).astype(np.float32)\n",
    "c = np.empty_like(a)\n",
    "\n",
    "a_gpu = cl.Buffer(context, cl.mem_flags.COPY_HOST_PTR, hostbuf = a)\n",
    "b_gpu = cl.Buffer(context, cl.mem_flags.COPY_HOST_PTR, hostbuf = b)\n",
    "c_gpu = cl.Buffer(context, cl.mem_flags.WRITE_ONLY, c.nbytes)\n"
   ]
  },
  {
   "cell_type": "code",
   "execution_count": 29,
   "id": "630af827",
   "metadata": {},
   "outputs": [
    {
     "name": "stdout",
     "output_type": "stream",
     "text": [
      "[0.5257073  0.23750056 0.11271624 ... 0.7317663  0.52242005 0.7100476 ]\n",
      "[0.8451233  0.8651082  0.49618682 ... 0.16361749 0.27418095 0.6738464 ]\n",
      "[1.3708305  1.1026088  0.60890305 ... 0.8953838  0.796601   1.383894  ]\n"
     ]
    }
   ],
   "source": [
    "kernel = \"\"\"__kernel void sum(__global const float *a, __global const float *b, __global float *c) {\n",
    "    int i = get_global_id(0);\n",
    "    c[i] = a[i] + b[i];\n",
    "    }   \"\"\"\n",
    "program  = cl.Program(context, kernel).build()\n",
    "program.sum(queue, a.shape, None, a_gpu, b_gpu, c_gpu)\n",
    "\n",
    "np_array = [a, b, c]\n",
    "gpu_array = [a_gpu, b_gpu, c_gpu]\n",
    "\n",
    "for x in range(3):\n",
    "    cl.enqueue_copy(queue, np_array[x], gpu_array[x])\n",
    "queue.finish()\n",
    "\n",
    "for x in np_array:\n",
    "    print(x)"
   ]
  }
 ],
 "metadata": {
  "kernelspec": {
   "display_name": "Python 3",
   "language": "python",
   "name": "python3"
  },
  "language_info": {
   "codemirror_mode": {
    "name": "ipython",
    "version": 3
   },
   "file_extension": ".py",
   "mimetype": "text/x-python",
   "name": "python",
   "nbconvert_exporter": "python",
   "pygments_lexer": "ipython3",
   "version": "3.8.10"
  }
 },
 "nbformat": 4,
 "nbformat_minor": 5
}
