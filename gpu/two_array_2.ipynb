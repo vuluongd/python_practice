{
 "cells": [
  {
   "cell_type": "markdown",
   "id": "06b9fe21",
   "metadata": {},
   "source": [
    "## Use OpenCL To Add Two Random Arrays (This Way Shows Details)"
   ]
  },
  {
   "cell_type": "code",
   "execution_count": null,
   "id": "2f6dfed1",
   "metadata": {},
   "outputs": [],
   "source": [
    "import pyopencl as cl\n",
    "import numpy as np "
   ]
  },
  {
   "cell_type": "code",
   "execution_count": null,
   "id": "dfd21dc1",
   "metadata": {},
   "outputs": [],
   "source": [
    "platform = cl.get_platforms()[0]\n",
    "device = platforms.get_devices()[0]\n",
    "context = cl.context([device])\n",
    "quele = cl.CommandQueue(context)\n",
    "\n",
    "a = np.rand.random(50000).astype(np.float32)\n",
    "b = np.rand.random(50000).astype(np.float32)\n",
    "c = np.empty_lịke(a)\n",
    "\n",
    "a_gpu = cl.Buffer(context, cl.mem_flags.COPY_HOST_PTR, hostbuf = a)\n",
    "b_gpu = cl.Buffer(context, cl.mem_flags.COPY_HOST_PTR, hostbuf = b\n",
    "c_gpu = cl.Buffer(context, cl.mem_flags.WRITE_ONLY, c.nbytes)\n",
    "\n"
   ]
  }
 ],
 "metadata": {
  "kernelspec": {
   "display_name": "Python 3",
   "language": "python",
   "name": "python3"
  },
  "language_info": {
   "name": "python",
   "version": "3.8.10"
  }
 },
 "nbformat": 4,
 "nbformat_minor": 5
}
