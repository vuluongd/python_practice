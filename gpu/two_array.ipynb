{
 "cells": [
  {
   "cell_type": "markdown",
   "id": "60dca524",
   "metadata": {},
   "source": [
    "## Use OpenCL To Add Two Random Arrays (This Way Hides Details)\n"
   ]
  },
  {
   "cell_type": "code",
   "execution_count": 1,
   "id": "8efb89c1",
   "metadata": {},
   "outputs": [],
   "source": [
    "import pyopencl as cl\n",
    "import pyopencl.array as pycl_array\n",
    "import numpy as np\n",
    "import warnings\n",
    "warnings.filterwarnings(\"ignore\", category=UserWarning)\n"
   ]
  },
  {
   "cell_type": "code",
   "execution_count": 2,
   "id": "c16360d3",
   "metadata": {},
   "outputs": [],
   "source": [
    "context = cl.create_some_context()\n",
    "queue = cl.CommandQueue(context)\n"
   ]
  },
  {
   "cell_type": "code",
   "execution_count": 3,
   "id": "6f83c6bf",
   "metadata": {},
   "outputs": [],
   "source": [
    "a = pycl_array.to_device(queue, np.random.rand(50000).astype(np.float32))\n",
    "b = pycl_array.to_device(queue, np.random.rand(50000).astype(np.float32))\n",
    "c = pycl_array.empty_like(a)\n"
   ]
  },
  {
   "cell_type": "code",
   "execution_count": 4,
   "id": "70080f46",
   "metadata": {},
   "outputs": [
    {
     "name": "stdout",
     "output_type": "stream",
     "text": [
      "a : [0.30065638 0.04990655 0.6094854  ... 0.775733   0.24715574 0.90530264]\n",
      "b : [0.41555896 0.76297724 0.7838401  ... 0.96351594 0.13746446 0.4645607 ]\n",
      "c : [0.7162154 0.8128838 1.3933256 ... 1.739249  0.3846202 1.3698633]\n"
     ]
    }
   ],
   "source": [
    "program = cl.Program(context, \"\"\"\n",
    "__kernel void sum(__global const float *a, __global const float *b, __global float *c)\n",
    "{ int i = get_global_id(0); \n",
    "   c[i] = a[i] + b[i];\n",
    "}\"\"\").build()\n",
    "\n",
    "program.sum(queue, a.shape, None, a.data, b.data, c.data)\n",
    "\n",
    "print (\"a : {}\" .format(a))\n",
    "print (\"b : {}\" .format(b))\n",
    "print (\"c : {}\" .format(c))\n",
    "\n",
    "                     "
   ]
  }
 ],
 "metadata": {
  "kernelspec": {
   "display_name": "Python 3",
   "language": "python",
   "name": "python3"
  },
  "language_info": {
   "codemirror_mode": {
    "name": "ipython",
    "version": 3
   },
   "file_extension": ".py",
   "mimetype": "text/x-python",
   "name": "python",
   "nbconvert_exporter": "python",
   "pygments_lexer": "ipython3",
   "version": "3.10.12"
  }
 },
 "nbformat": 4,
 "nbformat_minor": 5
}
