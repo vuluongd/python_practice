{
 "cells": [
  {
   "cell_type": "markdown",
   "id": "60dca524",
   "metadata": {},
   "source": [
    "## Use OpenCL To Add Two Random Arrays (This Way Hides Details)\n"
   ]
  },
  {
   "cell_type": "code",
   "execution_count": 6,
   "id": "8efb89c1",
   "metadata": {},
   "outputs": [],
   "source": [
    "import pyopencl as cl\n",
    "import pyopencl.array as pycl_array\n",
    "import numpy as np\n"
   ]
  },
  {
   "cell_type": "code",
   "execution_count": 7,
   "id": "c16360d3",
   "metadata": {},
   "outputs": [],
   "source": [
    "context = cl.create_some_context()\n",
    "queue = cl.CommandQueue(context)\n"
   ]
  },
  {
   "cell_type": "code",
   "execution_count": 8,
   "id": "6f83c6bf",
   "metadata": {},
   "outputs": [],
   "source": [
    "a = pycl_array.to_device(queue, np.random.rand(50000).astype(np.float32))\n",
    "b = pycl_array.to_device(queue, np.random.rand(50000).astype(np.float32))\n",
    "c = pycl_array.empty_like(a)\n"
   ]
  },
  {
   "cell_type": "code",
   "execution_count": 10,
   "id": "70080f46",
   "metadata": {},
   "outputs": [
    {
     "name": "stdout",
     "output_type": "stream",
     "text": [
      "a : [0.66729337 0.79223615 0.1246103  ... 0.88024014 0.36410514 0.69216084]\n",
      "b : [0.07126547 0.92854375 0.01641032 ... 0.4996807  0.8169825  0.28452358]\n",
      "c : [0.7385588  1.7207799  0.14102063 ... 1.3799208  1.1810876  0.97668445]\n"
     ]
    },
    {
     "name": "stderr",
     "output_type": "stream",
     "text": [
      "/home/lunog/.local/lib/python3.10/site-packages/pyopencl/__init__.py:272: CompilerWarning: Non-empty compiler output encountered. Set the environment variable PYOPENCL_COMPILER_OUTPUT=1 to see more.\n",
      "  warn(\"Non-empty compiler output encountered. Set the \"\n",
      "/home/lunog/.local/lib/python3.10/site-packages/pyopencl/invoker.py:374: UserWarning: pytools.persistent_dict 'pyopencl-invoker-cache-v41': enabling safe_sync as default. This provides strong protection against data loss, but can be unnecessarily expensive for use cases such as caches.Pass 'safe_sync=False' if occasional data loss is tolerable. Pass 'safe_sync=True' to suppress this warning.\n",
      "  invoker_cache = WriteOncePersistentDict(\n"
     ]
    }
   ],
   "source": [
    "program = cl.Program(context, \"\"\"\n",
    "__kernel void sum(__global const float *a, __global const float *b, __global float *c)\n",
    "{ int i = get_global_id(0); \n",
    "   c[i] = a[i] + b[i];\n",
    "}\"\"\").build()\n",
    "\n",
    "program.sum(queue, a.shape, None, a.data, b.data, c.data)\n",
    "\n",
    "print (\"a : {}\" .format(a))\n",
    "print (\"b : {}\" .format(b))\n",
    "print (\"c : {}\" .format(c))\n",
    "\n",
    "                     "
   ]
  }
 ],
 "metadata": {
  "kernelspec": {
   "display_name": "Python 3",
   "language": "python",
   "name": "python3"
  },
  "language_info": {
   "codemirror_mode": {
    "name": "ipython",
    "version": 3
   },
   "file_extension": ".py",
   "mimetype": "text/x-python",
   "name": "python",
   "nbconvert_exporter": "python",
   "pygments_lexer": "ipython3",
   "version": "3.10.12"
  }
 },
 "nbformat": 4,
 "nbformat_minor": 5
}
